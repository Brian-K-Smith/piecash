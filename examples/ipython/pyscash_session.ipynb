{
 "metadata": {
  "name": "",
  "signature": "sha256:236a09aaeb0caa732aeb11d222b1273030cca05de4a78dff613d05f3473235c8"
 },
 "nbformat": 3,
 "nbformat_minor": 0,
 "worksheets": [
  {
   "cells": [
    {
     "cell_type": "code",
     "collapsed": false,
     "input": [
      "import piecash\n",
      "import datetime\n",
      "piecash.__version__"
     ],
     "language": "python",
     "metadata": {},
     "outputs": [
      {
       "metadata": {},
       "output_type": "pyout",
       "prompt_number": 1,
       "text": [
        "'0.2.0'"
       ]
      }
     ],
     "prompt_number": 1
    },
    {
     "cell_type": "code",
     "collapsed": false,
     "input": [
      "# open a SQLAlchemy session linked to the test.gnucash file (as sqlite3 saved Book)\n",
      "s = piecash.open_book(\"test.gnucash\", readonly=False)"
     ],
     "language": "python",
     "metadata": {},
     "outputs": [],
     "prompt_number": 2
    },
    {
     "cell_type": "code",
     "collapsed": false,
     "input": [
      "# retrieve the single Book object from the session (this is a sqlalchemy standard call)\n",
      "book = s.book\n",
      "# retrieve the EUR currency\n",
      "EUR = s.commodities.get(mnemonic=\"EUR\")"
     ],
     "language": "python",
     "metadata": {},
     "outputs": [],
     "prompt_number": 3
    },
    {
     "cell_type": "code",
     "collapsed": false,
     "input": [
      "# from the book, retrieve the root account and display its children accounts\n",
      "book.root_account.children"
     ],
     "language": "python",
     "metadata": {},
     "outputs": [
      {
       "metadata": {},
       "output_type": "pyout",
       "prompt_number": 4,
       "text": [
        "[Account<Assets:26ab040a72d456510120febc05a7d87f>,\n",
        " Account<Liabilities:f5623bdde4e03aa70510410a4922ed3a>,\n",
        " Account<Income:895bcd982eadf2a3fee50f5f5ea41d9c>,\n",
        " Account<Expenses:e4d8981db8f523bc12554234a5ce27b1>,\n",
        " Account<Equity:e1163f4f905fa301e960e149544e53cc>]"
       ]
      }
     ],
     "prompt_number": 4
    },
    {
     "cell_type": "code",
     "collapsed": false,
     "input": [
      "# retrieve the standard 3 default assets accounts (checking account, saving account, cash in wallet)\n",
      "curacc, savacc, cash = book.root_account.children[0].children[0].children"
     ],
     "language": "python",
     "metadata": {},
     "outputs": [],
     "prompt_number": 5
    },
    {
     "cell_type": "code",
     "collapsed": false,
     "input": [
      "# check splits (they should be empty if the GnuCash book was an empty Book)\n",
      "savacc.splits, curacc.splits"
     ],
     "language": "python",
     "metadata": {},
     "outputs": [
      {
       "metadata": {},
       "output_type": "pyout",
       "prompt_number": 6,
       "text": [
        "([], [])"
       ]
      }
     ],
     "prompt_number": 6
    },
    {
     "cell_type": "code",
     "collapsed": false,
     "input": [
      "# create a transaction of 45 \u20ac from the saving  account to the checking account\n",
      "tr = piecash.Transaction.single_transaction(datetime.date.today(),datetime.date.today(), \"transfer of money\", (4500, 100), savacc, curacc)"
     ],
     "language": "python",
     "metadata": {},
     "outputs": [],
     "prompt_number": 7
    },
    {
     "cell_type": "code",
     "collapsed": false,
     "input": [
      "# check some attributes of the transaction\n",
      "tr.description, tr.splits"
     ],
     "language": "python",
     "metadata": {},
     "outputs": [
      {
       "metadata": {},
       "output_type": "pyout",
       "prompt_number": 8,
       "text": [
        "('transfer of money',\n",
        " [<Split Account<Assets:Current Assets:Savings Account:3f06315df9f4d0da91dc543adb6925d0> (-4500, 100)>,\n",
        "  <Split Account<Assets:Current Assets:Checking Account:98243de35cad3f868f3408336b9c3378> (4500, 100)>])"
       ]
      }
     ],
     "prompt_number": 8
    },
    {
     "cell_type": "code",
     "collapsed": false,
     "input": [
      "# check the splits from the accounts point of view\n",
      "savacc.splits, curacc.splits"
     ],
     "language": "python",
     "metadata": {},
     "outputs": [
      {
       "metadata": {},
       "output_type": "pyout",
       "prompt_number": 9,
       "text": [
        "([<Split Account<Assets:Current Assets:Savings Account:3f06315df9f4d0da91dc543adb6925d0> (-4500, 100)>],\n",
        " [<Split Account<Assets:Current Assets:Checking Account:98243de35cad3f868f3408336b9c3378> (4500, 100)>])"
       ]
      }
     ],
     "prompt_number": 9
    },
    {
     "cell_type": "code",
     "collapsed": false,
     "input": [
      "# cancel all changes in the session (i.e. undo all changes)\n",
      "s.cancel()"
     ],
     "language": "python",
     "metadata": {},
     "outputs": [],
     "prompt_number": 10
    },
    {
     "cell_type": "code",
     "collapsed": false,
     "input": [
      "# check splits after the rollback (they should be unchanged)\n",
      "savacc.splits, curacc.splits"
     ],
     "language": "python",
     "metadata": {},
     "outputs": [
      {
       "metadata": {},
       "output_type": "pyout",
       "prompt_number": 11,
       "text": [
        "([], [])"
       ]
      }
     ],
     "prompt_number": 11
    }
   ],
   "metadata": {}
  }
 ]
}